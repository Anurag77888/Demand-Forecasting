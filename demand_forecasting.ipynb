{
 "cells": [
  {
   "cell_type": "markdown",
   "id": "da5fbe15",
   "metadata": {},
   "source": [
    "# Demand Forecasting Using LSTM (Synthetic Data)"
   ]
  },
  {
   "cell_type": "code",
   "execution_count": null,
   "id": "37841870",
   "metadata": {},
   "outputs": [],
   "source": [
    "\n",
    "import numpy as np\n",
    "import pandas as pd\n",
    "import matplotlib.pyplot as plt\n",
    "from sklearn.preprocessing import MinMaxScaler\n",
    "from sklearn.metrics import mean_squared_error, mean_absolute_error\n",
    "import tensorflow as tf\n",
    "from tensorflow.keras.models import Sequential\n",
    "from tensorflow.keras.layers import LSTM, Dense\n"
   ]
  },
  {
   "cell_type": "code",
   "execution_count": null,
   "id": "75ccdb92",
   "metadata": {},
   "outputs": [],
   "source": [
    "\n",
    "np.random.seed(42)\n",
    "months = np.arange(1, 97)\n",
    "demand = 100 + 10 * np.sin(2 * np.pi * months / 12) + np.random.normal(0, 5, 96)\n",
    "df = pd.DataFrame({'Month': pd.date_range(start='2016-01-01', periods=96, freq='M'), 'Demand': demand})\n",
    "df.set_index('Month', inplace=True)\n",
    "df.plot(title=\"Synthetic Monthly Demand Data\", figsize=(10, 4))\n",
    "plt.show()\n"
   ]
  },
  {
   "cell_type": "code",
   "execution_count": null,
   "id": "88e802cb",
   "metadata": {},
   "outputs": [],
   "source": [
    "\n",
    "scaler = MinMaxScaler()\n",
    "scaled_demand = scaler.fit_transform(df[['Demand']])\n",
    "\n",
    "def create_sequences(data, seq_length):\n",
    "    x, y = [], []\n",
    "    for i in range(len(data) - seq_length):\n",
    "        x.append(data[i:i+seq_length])\n",
    "        y.append(data[i+seq_length])\n",
    "    return np.array(x), np.array(y)\n",
    "\n",
    "SEQ_LENGTH = 12\n",
    "X, y = create_sequences(scaled_demand, SEQ_LENGTH)\n",
    "split = int(0.8 * len(X))\n",
    "X_train, X_test = X[:split], X[split:]\n",
    "y_train, y_test = y[:split], y[split:]\n"
   ]
  },
  {
   "cell_type": "code",
   "execution_count": null,
   "id": "5b1db34c",
   "metadata": {},
   "outputs": [],
   "source": [
    "\n",
    "model = Sequential([\n",
    "    LSTM(50, activation='relu', input_shape=(SEQ_LENGTH, 1)),\n",
    "    Dense(1)\n",
    "])\n",
    "model.compile(optimizer='adam', loss='mse')\n",
    "model.fit(X_train, y_train, epochs=30, validation_split=0.1, verbose=1)\n"
   ]
  },
  {
   "cell_type": "code",
   "execution_count": null,
   "id": "13bbbb16",
   "metadata": {},
   "outputs": [],
   "source": [
    "\n",
    "y_pred = model.predict(X_test)\n",
    "y_test_inv = scaler.inverse_transform(y_test.reshape(-1, 1))\n",
    "y_pred_inv = scaler.inverse_transform(y_pred)\n",
    "print(\"RMSE:\", np.sqrt(mean_squared_error(y_test_inv, y_pred_inv)))\n",
    "print(\"MAE:\", mean_absolute_error(y_test_inv, y_pred_inv))\n",
    "plt.plot(y_test_inv, label='Actual')\n",
    "plt.plot(y_pred_inv, label='Predicted')\n",
    "plt.legend()\n",
    "plt.title(\"Actual vs Predicted Demand\")\n",
    "plt.show()\n"
   ]
  }
 ],
 "metadata": {},
 "nbformat": 4,
 "nbformat_minor": 5
}
